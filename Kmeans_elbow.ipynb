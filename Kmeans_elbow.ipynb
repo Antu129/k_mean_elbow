{
  "nbformat": 4,
  "nbformat_minor": 0,
  "metadata": {
    "colab": {
      "name": "Kmeans_elbow.ipynb",
      "provenance": [],
      "collapsed_sections": []
    },
    "kernelspec": {
      "name": "python3",
      "display_name": "Python 3"
    },
    "language_info": {
      "name": "python"
    }
  },
  "cells": [
    {
      "cell_type": "code",
      "metadata": {
        "id": "-ZGp4KR-Iuje"
      },
      "source": [
        "#importing dependancies \n",
        "import pandas as pd\n",
        "import matplotlib.pyplot as plt\n",
        "from sklearn.cluster import KMeans\n",
        "from sklearn.metrics import classsification_report"
      ],
      "execution_count": null,
      "outputs": []
    },
    {
      "cell_type": "code",
      "metadata": {
        "colab": {
          "base_uri": "https://localhost:8080/",
          "height": 355
        },
        "id": "3Py5zJOvJa8z",
        "outputId": "c4897512-2837-47f0-d5c9-a85a77159a22"
      },
      "source": [
        "#loading the dataset\n",
        "data = pd.read_excel(\"/content/try1.xlsx\");\n",
        "dataset = pd.DataFrame(data, columns=['x','y'])\n",
        "dataset.head(10)"
      ],
      "execution_count": null,
      "outputs": [
        {
          "output_type": "execute_result",
          "data": {
            "text/html": [
              "<div>\n",
              "<style scoped>\n",
              "    .dataframe tbody tr th:only-of-type {\n",
              "        vertical-align: middle;\n",
              "    }\n",
              "\n",
              "    .dataframe tbody tr th {\n",
              "        vertical-align: top;\n",
              "    }\n",
              "\n",
              "    .dataframe thead th {\n",
              "        text-align: right;\n",
              "    }\n",
              "</style>\n",
              "<table border=\"1\" class=\"dataframe\">\n",
              "  <thead>\n",
              "    <tr style=\"text-align: right;\">\n",
              "      <th></th>\n",
              "      <th>x</th>\n",
              "      <th>y</th>\n",
              "    </tr>\n",
              "  </thead>\n",
              "  <tbody>\n",
              "    <tr>\n",
              "      <th>0</th>\n",
              "      <td>-1</td>\n",
              "      <td>2</td>\n",
              "    </tr>\n",
              "    <tr>\n",
              "      <th>1</th>\n",
              "      <td>7</td>\n",
              "      <td>0</td>\n",
              "    </tr>\n",
              "    <tr>\n",
              "      <th>2</th>\n",
              "      <td>2</td>\n",
              "      <td>1</td>\n",
              "    </tr>\n",
              "    <tr>\n",
              "      <th>3</th>\n",
              "      <td>0</td>\n",
              "      <td>7</td>\n",
              "    </tr>\n",
              "    <tr>\n",
              "      <th>4</th>\n",
              "      <td>9</td>\n",
              "      <td>2</td>\n",
              "    </tr>\n",
              "    <tr>\n",
              "      <th>5</th>\n",
              "      <td>-3</td>\n",
              "      <td>6</td>\n",
              "    </tr>\n",
              "    <tr>\n",
              "      <th>6</th>\n",
              "      <td>5</td>\n",
              "      <td>0</td>\n",
              "    </tr>\n",
              "    <tr>\n",
              "      <th>7</th>\n",
              "      <td>8</td>\n",
              "      <td>1</td>\n",
              "    </tr>\n",
              "    <tr>\n",
              "      <th>8</th>\n",
              "      <td>-6</td>\n",
              "      <td>2</td>\n",
              "    </tr>\n",
              "    <tr>\n",
              "      <th>9</th>\n",
              "      <td>4</td>\n",
              "      <td>9</td>\n",
              "    </tr>\n",
              "  </tbody>\n",
              "</table>\n",
              "</div>"
            ],
            "text/plain": [
              "   x  y\n",
              "0 -1  2\n",
              "1  7  0\n",
              "2  2  1\n",
              "3  0  7\n",
              "4  9  2\n",
              "5 -3  6\n",
              "6  5  0\n",
              "7  8  1\n",
              "8 -6  2\n",
              "9  4  9"
            ]
          },
          "metadata": {},
          "execution_count": 141
        }
      ]
    },
    {
      "cell_type": "code",
      "metadata": {
        "colab": {
          "base_uri": "https://localhost:8080/",
          "height": 278
        },
        "id": "pqxYb7C3LCSI",
        "outputId": "7d43c39e-c990-4b24-afa6-151becb4ec4a"
      },
      "source": [
        "#plotting the points into a 2D plot\n",
        "dataset.plot(kind='scatter',x='x',y='y')\n",
        "plt.show()"
      ],
      "execution_count": null,
      "outputs": [
        {
          "output_type": "display_data",
          "data": {
            "image/png": "[encoded data removed]",
            "text/plain": [
              "<Figure size 432x288 with 1 Axes>"
            ]
          },
          "metadata": {
            "needs_background": "light"
          }
        }
      ]
    },
    {
      "cell_type": "code",
      "metadata": {
        "colab": {
          "base_uri": "https://localhost:8080/",
          "height": 294
        },
        "id": "RqzgzHr-Lby8",
        "outputId": "0221b703-e25b-44c7-b171-6c5774cc34b6"
      },
      "source": [
        "dataset.describe()"
      ],
      "execution_count": null,
      "outputs": [
        {
          "output_type": "execute_result",
          "data": {
            "text/html": [
              "<div>\n",
              "<style scoped>\n",
              "    .dataframe tbody tr th:only-of-type {\n",
              "        vertical-align: middle;\n",
              "    }\n",
              "\n",
              "    .dataframe tbody tr th {\n",
              "        vertical-align: top;\n",
              "    }\n",
              "\n",
              "    .dataframe thead th {\n",
              "        text-align: right;\n",
              "    }\n",
              "</style>\n",
              "<table border=\"1\" class=\"dataframe\">\n",
              "  <thead>\n",
              "    <tr style=\"text-align: right;\">\n",
              "      <th></th>\n",
              "      <th>x</th>\n",
              "      <th>y</th>\n",
              "    </tr>\n",
              "  </thead>\n",
              "  <tbody>\n",
              "    <tr>\n",
              "      <th>count</th>\n",
              "      <td>10.000000</td>\n",
              "      <td>10.000000</td>\n",
              "    </tr>\n",
              "    <tr>\n",
              "      <th>mean</th>\n",
              "      <td>2.500000</td>\n",
              "      <td>3.000000</td>\n",
              "    </tr>\n",
              "    <tr>\n",
              "      <th>std</th>\n",
              "      <td>4.972145</td>\n",
              "      <td>3.162278</td>\n",
              "    </tr>\n",
              "    <tr>\n",
              "      <th>min</th>\n",
              "      <td>-6.000000</td>\n",
              "      <td>0.000000</td>\n",
              "    </tr>\n",
              "    <tr>\n",
              "      <th>25%</th>\n",
              "      <td>-0.750000</td>\n",
              "      <td>1.000000</td>\n",
              "    </tr>\n",
              "    <tr>\n",
              "      <th>50%</th>\n",
              "      <td>3.000000</td>\n",
              "      <td>2.000000</td>\n",
              "    </tr>\n",
              "    <tr>\n",
              "      <th>75%</th>\n",
              "      <td>6.500000</td>\n",
              "      <td>5.000000</td>\n",
              "    </tr>\n",
              "    <tr>\n",
              "      <th>max</th>\n",
              "      <td>9.000000</td>\n",
              "      <td>9.000000</td>\n",
              "    </tr>\n",
              "  </tbody>\n",
              "</table>\n",
              "</div>"
            ],
            "text/plain": [
              "               x          y\n",
              "count  10.000000  10.000000\n",
              "mean    2.500000   3.000000\n",
              "std     4.972145   3.162278\n",
              "min    -6.000000   0.000000\n",
              "25%    -0.750000   1.000000\n",
              "50%     3.000000   2.000000\n",
              "75%     6.500000   5.000000\n",
              "max     9.000000   9.000000"
            ]
          },
          "metadata": {},
          "execution_count": 50
        }
      ]
    },
    {
      "cell_type": "code",
      "metadata": {
        "colab": {
          "base_uri": "https://localhost:8080/"
        },
        "id": "-59eXfLqSndR",
        "outputId": "587112ca-d162-4ae4-fa60-54a04fd03553"
      },
      "source": [
        "#elbow method\n",
        "#performing k mean clustering 10 times and calculate the SSE or sum of sqaured distances\n",
        "sum_of_distances = []\n",
        "K = range(1,11)\n",
        "print(\"Sum of squared distances: \")\n",
        "for k in K:\n",
        "  km = KMeans(n_clusters=k)\n",
        "  km = km.fit(dataset)\n",
        "  sum_of_distances.append(km.inertia_)\n",
        "  print(\"k = \",k,\": \",km.inertia_)"
      ],
      "execution_count": null,
      "outputs": [
        {
          "output_type": "stream",
          "name": "stdout",
          "text": [
            "Sum of squared distances: \n",
            "k =  1 :  312.5\n",
            "k =  2 :  127.2\n",
            "k =  3 :  66.93333333333334\n",
            "k =  4 :  45.833333333333336\n",
            "k =  5 :  21.5\n",
            "k =  6 :  13.0\n",
            "k =  7 :  8.0\n",
            "k =  8 :  3.0\n",
            "k =  9 :  1.0\n",
            "k =  10 :  0.0\n"
          ]
        }
      ]
    },
    {
      "cell_type": "code",
      "metadata": {
        "colab": {
          "base_uri": "https://localhost:8080/",
          "height": 294
        },
        "id": "OkChKSMsZuIJ",
        "outputId": "8754d602-d68f-466b-b1c3-9d71253fd11e"
      },
      "source": [
        "#plotting SSE vs k graph\n",
        "plt.plot(K,sum_of_distances, 'bx-')\n",
        "plt.xlabel('k')\n",
        "plt.ylabel(\"Sum of squared distances\")\n",
        "plt.title(\"Elbow method\")\n",
        "plt.show()"
      ],
      "execution_count": null,
      "outputs": [
        {
          "output_type": "display_data",
          "data": {
            "image/png": "[encoded data removed]",
            "text/plain": [
              "<Figure size 432x288 with 1 Axes>"
            ]
          },
          "metadata": {
            "needs_background": "light"
          }
        }
      ]
    },
    {
      "cell_type": "code",
      "metadata": {
        "colab": {
          "base_uri": "https://localhost:8080/"
        },
        "id": "O55br6PbdIoA",
        "outputId": "12f27519-97e2-4fca-b047-1e731a5557c4"
      },
      "source": [
        "#elbow is at 3\n",
        "\n",
        "#performing clustering where k=3\n",
        "\n",
        "k_means = KMeans(n_clusters=3)\n",
        "k_means = k_means.fit(dataset)\n",
        "print(k_means.labels_)\n"
      ],
      "execution_count": null,
      "outputs": [
        {
          "output_type": "stream",
          "name": "stdout",
          "text": [
            "[0 1 0 2 1 0 1 1 0 2]\n"
          ]
        }
      ]
    },
    {
      "cell_type": "code",
      "metadata": {
        "colab": {
          "base_uri": "https://localhost:8080/"
        },
        "id": "QHWYsJ_kd-T4",
        "outputId": "d10b84a8-071f-4654-8cc2-77199afef8cb"
      },
      "source": [
        "#number of points in every cluster\n",
        "results = k_means.labels_\n",
        "results = pd.DataFrame(results, columns=['Cluster'])\n",
        "results.groupby('Cluster').size()"
      ],
      "execution_count": null,
      "outputs": [
        {
          "output_type": "execute_result",
          "data": {
            "text/plain": [
              "Cluster\n",
              "0    4\n",
              "1    4\n",
              "2    2\n",
              "dtype: int64"
            ]
          },
          "metadata": {},
          "execution_count": 161
        }
      ]
    },
    {
      "cell_type": "code",
      "metadata": {
        "colab": {
          "base_uri": "https://localhost:8080/"
        },
        "id": "CHtragYPfMxR",
        "outputId": "d48043bd-6e1f-49d3-d817-8e927fe5609a"
      },
      "source": [
        "#centeroids of the clusters\n",
        "centroids = k_means.cluster_centers_\n",
        "centroids = pd.DataFrame(centroids, columns=['c_x','c_y'])\n",
        "print(centroids)"
      ],
      "execution_count": null,
      "outputs": [
        {
          "output_type": "stream",
          "name": "stdout",
          "text": [
            "    c_x   c_y\n",
            "0 -2.00  2.75\n",
            "1  7.25  0.75\n",
            "2  2.00  8.00\n"
          ]
        }
      ]
    },
    {
      "cell_type": "code",
      "metadata": {
        "colab": {
          "base_uri": "https://localhost:8080/",
          "height": 605
        },
        "id": "097NIo_qg26Z",
        "outputId": "57a7e9bb-1ef1-4ac7-fdf2-56eaab2fe003"
      },
      "source": [
        "#plotting the points and the centroid\n",
        "s1 = dataset.plot(figsize = [14,10], kind = 'scatter',x='x',y='y',color='green')\n",
        "centroids.plot(ax=s1, kind='scatter',x='c_x',y='c_y', color= 'red', marker='o',s=[100,100,100])\n",
        "plt.xlabel('x')\n",
        "plt.ylabel('y')\n",
        "plt.show()"
      ],
      "execution_count": null,
      "outputs": [
        {
          "output_type": "display_data",
          "data": {
            "image/png": "[encoded data removed]",
            "text/plain": [
              "<Figure size 1008x720 with 1 Axes>"
            ]
          },
          "metadata": {
            "needs_background": "light"
          }
        }
      ]
    },
    {
      "cell_type": "code",
      "metadata": {
        "colab": {
          "base_uri": "https://localhost:8080/"
        },
        "id": "8yASN3iazx04",
        "outputId": "7a132805-d0da-4adc-9095-a9b275fce1c6"
      },
      "source": [
        "predict = k_means.predict([[-3,6]])\n",
        "print(predict)"
      ],
      "execution_count": null,
      "outputs": [
        {
          "output_type": "stream",
          "name": "stdout",
          "text": [
            "[0]\n"
          ]
        }
      ]
    }
  ]
}